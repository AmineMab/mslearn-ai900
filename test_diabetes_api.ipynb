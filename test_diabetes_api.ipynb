{
 "cells": [
  {
   "cell_type": "code",
   "execution_count": 1,
   "metadata": {},
   "outputs": [
    {
     "name": "stdout",
     "output_type": "stream",
     "text": [
      "b'{\"Results\": {\"WebServiceOutput0\": [{\"DiabetesPrediction\": 1.0, \"Probability\": 0.6011298573823535}, {\"DiabetesPrediction\": 1.0, \"Probability\": 0.7676756006921267}, {\"DiabetesPrediction\": 1.0, \"Probability\": 0.9360511823773061}]}}'\n"
     ]
    }
   ],
   "source": [
    "import urllib.request\n",
    "import json\n",
    "import os\n",
    "import ssl\n",
    "\n",
    "def allowSelfSignedHttps(allowed):\n",
    "    # bypass the server certificate verification on client side\n",
    "    if allowed and not os.environ.get('PYTHONHTTPSVERIFY', '') and getattr(ssl, '_create_unverified_context', None):\n",
    "        ssl._create_default_https_context = ssl._create_unverified_context\n",
    "\n",
    "allowSelfSignedHttps(True) # this line is needed if you use self-signed certificate in your scoring service.\n",
    "\n",
    "# Request data goes here\n",
    "# The example below assumes JSON formatting which may be updated\n",
    "# depending on the format your endpoint expects.\n",
    "# More information can be found here:\n",
    "# https://docs.microsoft.com/azure/machine-learning/how-to-deploy-advanced-entry-script\n",
    "data =  {\n",
    "  \"Inputs\": {\n",
    "    \"input1\": [\n",
    "      {\n",
    "        \"PatientID\": 1882185,\n",
    "        \"Pregnancies\": 9,\n",
    "        \"PlasmaGlucose\": 104,\n",
    "        \"DiastolicBloodPressure\": 51,\n",
    "        \"TricepsThickness\": 7,\n",
    "        \"SerumInsulin\": 24,\n",
    "        \"BMI\": 27.36983156,\n",
    "        \"DiabetesPedigree\": 1.3504720469999998,\n",
    "        \"Age\": 43\n",
    "      },\n",
    "      {\n",
    "        \"PatientID\": 1662484,\n",
    "        \"Pregnancies\": 6,\n",
    "        \"PlasmaGlucose\": 73,\n",
    "        \"DiastolicBloodPressure\": 61,\n",
    "        \"TricepsThickness\": 35,\n",
    "        \"SerumInsulin\": 24,\n",
    "        \"BMI\": 18.74367404,\n",
    "        \"DiabetesPedigree\": 1.074147566,\n",
    "        \"Age\": 75\n",
    "      },\n",
    "      {\n",
    "        \"PatientID\": 1228510,\n",
    "        \"Pregnancies\": 4,\n",
    "        \"PlasmaGlucose\": 115,\n",
    "        \"DiastolicBloodPressure\": 50,\n",
    "        \"TricepsThickness\": 29,\n",
    "        \"SerumInsulin\": 243,\n",
    "        \"BMI\": 34.69215364,\n",
    "        \"DiabetesPedigree\": 0.7411599259999999,\n",
    "        \"Age\": 59\n",
    "      }\n",
    "    ]\n",
    "  },\n",
    "  \"GlobalParameters\": {}\n",
    "}\n",
    "\n",
    "body = str.encode(json.dumps(data))\n",
    "\n",
    "url = 'http://3bd722e4-2ba9-419e-a092-2b330e27e98e.westeurope.azurecontainer.io/score'\n",
    "# Replace this with the primary/secondary key or AMLToken for the endpoint\n",
    "api_key = '0sogur78yJnmJxO8fkEqoGP0edszKtvH'\n",
    "if not api_key:\n",
    "    raise Exception(\"A key should be provided to invoke the endpoint\")\n",
    "\n",
    "\n",
    "headers = {'Content-Type':'application/json', 'Authorization':('Bearer '+ api_key)}\n",
    "\n",
    "req = urllib.request.Request(url, body, headers)\n",
    "\n",
    "try:\n",
    "    response = urllib.request.urlopen(req)\n",
    "\n",
    "    result = response.read()\n",
    "    print(result)\n",
    "except urllib.error.HTTPError as error:\n",
    "    print(\"The request failed with status code: \" + str(error.code))\n",
    "\n",
    "    # Print the headers - they include the requert ID and the timestamp, which are useful for debugging the failure\n",
    "    print(error.info())\n",
    "    print(error.read().decode(\"utf8\", 'ignore'))"
   ]
  }
 ],
 "metadata": {
  "kernelspec": {
   "display_name": "dl",
   "language": "python",
   "name": "python3"
  },
  "language_info": {
   "codemirror_mode": {
    "name": "ipython",
    "version": 3
   },
   "file_extension": ".py",
   "mimetype": "text/x-python",
   "name": "python",
   "nbconvert_exporter": "python",
   "pygments_lexer": "ipython3",
   "version": "3.8.0"
  },
  "orig_nbformat": 4,
  "vscode": {
   "interpreter": {
    "hash": "c0e2434964a70057e7f1b699838e8ed135497488d3c5c4287d64ea4c9c64d133"
   }
  }
 },
 "nbformat": 4,
 "nbformat_minor": 2
}
