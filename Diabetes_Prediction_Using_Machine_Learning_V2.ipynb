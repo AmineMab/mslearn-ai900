{
  "nbformat": 4,
  "nbformat_minor": 0,
  "metadata": {
    "kernelspec": {
      "display_name": "Python 3",
      "language": "python",
      "name": "python3"
    },
    "language_info": {
      "codemirror_mode": {
        "name": "ipython",
        "version": 3
      },
      "file_extension": ".py",
      "mimetype": "text/x-python",
      "name": "python",
      "nbconvert_exporter": "python",
      "pygments_lexer": "ipython3",
      "version": "3.7.5"
    },
    "colab": {
      "provenance": []
    }
  },
  "cells": [
    {
      "cell_type": "markdown",
      "metadata": {
        "id": "-D9oZOh4lJyX"
      },
      "source": [
        "# Predict the diabetes based on diagnostic measures\n",
        "\n",
        "*   Élément de liste\n",
        "*   Élément de liste\n",
        "\n",
        "\n",
        "\n",
        "#### About DATA:\n",
        "This dataset is originally from the National Institute of Diabetes and Digestive and Kidney Diseases. The objective of the dataset is to diagnostically predict whether or not a patient has diabetes, based on certain diagnostic measurements included in the dataset. Several constraints were placed on the selection of these instances from a larger database. In particular, all patients here are females at least 21 years old of Pima Indian heritage.\n",
        "\n",
        "\n",
        "The datasets consists of several medical predictor variables and one target variable, Outcome. Predictor variables includes the number of pregnancies the patient has had, their BMI, insulin level, age, and so on.\n",
        "\n",
        "\n",
        "Columns\n",
        "> 1.Pregnancies = Number of times pregnant\n",
        "\n",
        "> 2.Glucose = Plasma glucose concentration a 2 hours in an oral glucose tolerance test\n",
        "\n",
        "> 3.BloodPressure = Diastolic blood pressure (mm Hg)\n",
        "\n",
        "> 4.SkinThickness = Triceps skin fold thickness (mm)\n",
        "\n",
        "> 5.Insulin = 2-Hour serum insulin (mu U/ml)\n",
        "\n",
        "> 6.BMI = Body mass index (weight in kg/(height in m)^2)\n",
        "\n",
        "> 7.DiabetesPedigreeFunction = Diabetes pedigree function\n",
        "\n",
        "> 8.Age = Age (years)\n",
        "\n",
        "> 9.Outcome = Class variable (0 or 1) 268 of 768 are 1, the others are 0"
      ]
    },
    {
      "cell_type": "code",
      "metadata": {
        "id": "ErClkiPElJyf"
      },
      "source": [
        "# importing libraries\n",
        "import pandas as pd\n",
        "import numpy as np\n",
        "import matplotlib.pyplot as plt\n",
        "%matplotlib inline\n",
        "import seaborn as sns\n",
        "\n",
        "import warnings\n",
        "warnings.filterwarnings('ignore')\n",
        "# execute  !pip install new_pkg_name for installing new packages"
      ],
      "execution_count": null,
      "outputs": []
    },
    {
      "cell_type": "code",
      "metadata": {
        "id": "_XrrBbHglJzE"
      },
      "source": [
        "data = pd.read_csv('pima-data.csv')"
      ],
      "execution_count": null,
      "outputs": []
    },
    {
      "cell_type": "code",
      "metadata": {
        "id": "N3ziJj8ZlJze",
        "colab": {
          "base_uri": "https://localhost:8080/"
        },
        "outputId": "2b19db92-db4b-4005-8df7-aa40b4a498f0"
      },
      "source": [
        "data.shape"
      ],
      "execution_count": null,
      "outputs": [
        {
          "output_type": "execute_result",
          "data": {
            "text/plain": [
              "(768, 10)"
            ]
          },
          "metadata": {
            "tags": []
          },
          "execution_count": 3
        }
      ]
    },
    {
      "cell_type": "code",
      "metadata": {
        "id": "p3r7ZFpnlJzz",
        "colab": {
          "base_uri": "https://localhost:8080/"
        },
        "outputId": "6950415a-e79b-4d68-bf8a-a54444f2b860"
      },
      "source": [
        "data.info()"
      ],
      "execution_count": null,
      "outputs": [
        {
          "output_type": "stream",
          "text": [
            "<class 'pandas.core.frame.DataFrame'>\n",
            "RangeIndex: 768 entries, 0 to 767\n",
            "Data columns (total 10 columns):\n",
            " #   Column        Non-Null Count  Dtype  \n",
            "---  ------        --------------  -----  \n",
            " 0   num_preg      768 non-null    int64  \n",
            " 1   glucose_conc  768 non-null    int64  \n",
            " 2   diastolic_bp  768 non-null    int64  \n",
            " 3   thickness     768 non-null    int64  \n",
            " 4   insulin       768 non-null    int64  \n",
            " 5   bmi           768 non-null    float64\n",
            " 6   diab_pred     768 non-null    float64\n",
            " 7   age           768 non-null    int64  \n",
            " 8   skin          768 non-null    float64\n",
            " 9   diabetes      768 non-null    bool   \n",
            "dtypes: bool(1), float64(3), int64(6)\n",
            "memory usage: 54.9 KB\n"
          ],
          "name": "stdout"
        }
      ]
    },
    {
      "cell_type": "code",
      "metadata": {
        "id": "rJhpawIklJ0D",
        "colab": {
          "base_uri": "https://localhost:8080/",
          "height": 358
        },
        "outputId": "f5d0c917-365b-4313-dc76-35c68d6b4e12"
      },
      "source": [
        "data.head(10)"
      ],
      "execution_count": null,
      "outputs": [
        {
          "output_type": "execute_result",
          "data": {
            "text/html": [
              "<div>\n",
              "<style scoped>\n",
              "    .dataframe tbody tr th:only-of-type {\n",
              "        vertical-align: middle;\n",
              "    }\n",
              "\n",
              "    .dataframe tbody tr th {\n",
              "        vertical-align: top;\n",
              "    }\n",
              "\n",
              "    .dataframe thead th {\n",
              "        text-align: right;\n",
              "    }\n",
              "</style>\n",
              "<table border=\"1\" class=\"dataframe\">\n",
              "  <thead>\n",
              "    <tr style=\"text-align: right;\">\n",
              "      <th></th>\n",
              "      <th>num_preg</th>\n",
              "      <th>glucose_conc</th>\n",
              "      <th>diastolic_bp</th>\n",
              "      <th>thickness</th>\n",
              "      <th>insulin</th>\n",
              "      <th>bmi</th>\n",
              "      <th>diab_pred</th>\n",
              "      <th>age</th>\n",
              "      <th>skin</th>\n",
              "      <th>diabetes</th>\n",
              "    </tr>\n",
              "  </thead>\n",
              "  <tbody>\n",
              "    <tr>\n",
              "      <th>0</th>\n",
              "      <td>6</td>\n",
              "      <td>148</td>\n",
              "      <td>72</td>\n",
              "      <td>35</td>\n",
              "      <td>0</td>\n",
              "      <td>33.6</td>\n",
              "      <td>0.627</td>\n",
              "      <td>50</td>\n",
              "      <td>1.3790</td>\n",
              "      <td>True</td>\n",
              "    </tr>\n",
              "    <tr>\n",
              "      <th>1</th>\n",
              "      <td>1</td>\n",
              "      <td>85</td>\n",
              "      <td>66</td>\n",
              "      <td>29</td>\n",
              "      <td>0</td>\n",
              "      <td>26.6</td>\n",
              "      <td>0.351</td>\n",
              "      <td>31</td>\n",
              "      <td>1.1426</td>\n",
              "      <td>False</td>\n",
              "    </tr>\n",
              "    <tr>\n",
              "      <th>2</th>\n",
              "      <td>8</td>\n",
              "      <td>183</td>\n",
              "      <td>64</td>\n",
              "      <td>0</td>\n",
              "      <td>0</td>\n",
              "      <td>23.3</td>\n",
              "      <td>0.672</td>\n",
              "      <td>32</td>\n",
              "      <td>0.0000</td>\n",
              "      <td>True</td>\n",
              "    </tr>\n",
              "    <tr>\n",
              "      <th>3</th>\n",
              "      <td>1</td>\n",
              "      <td>89</td>\n",
              "      <td>66</td>\n",
              "      <td>23</td>\n",
              "      <td>94</td>\n",
              "      <td>28.1</td>\n",
              "      <td>0.167</td>\n",
              "      <td>21</td>\n",
              "      <td>0.9062</td>\n",
              "      <td>False</td>\n",
              "    </tr>\n",
              "    <tr>\n",
              "      <th>4</th>\n",
              "      <td>0</td>\n",
              "      <td>137</td>\n",
              "      <td>40</td>\n",
              "      <td>35</td>\n",
              "      <td>168</td>\n",
              "      <td>43.1</td>\n",
              "      <td>2.288</td>\n",
              "      <td>33</td>\n",
              "      <td>1.3790</td>\n",
              "      <td>True</td>\n",
              "    </tr>\n",
              "    <tr>\n",
              "      <th>5</th>\n",
              "      <td>5</td>\n",
              "      <td>116</td>\n",
              "      <td>74</td>\n",
              "      <td>0</td>\n",
              "      <td>0</td>\n",
              "      <td>25.6</td>\n",
              "      <td>0.201</td>\n",
              "      <td>30</td>\n",
              "      <td>0.0000</td>\n",
              "      <td>False</td>\n",
              "    </tr>\n",
              "    <tr>\n",
              "      <th>6</th>\n",
              "      <td>3</td>\n",
              "      <td>78</td>\n",
              "      <td>50</td>\n",
              "      <td>32</td>\n",
              "      <td>88</td>\n",
              "      <td>31.0</td>\n",
              "      <td>0.248</td>\n",
              "      <td>26</td>\n",
              "      <td>1.2608</td>\n",
              "      <td>True</td>\n",
              "    </tr>\n",
              "    <tr>\n",
              "      <th>7</th>\n",
              "      <td>10</td>\n",
              "      <td>115</td>\n",
              "      <td>0</td>\n",
              "      <td>0</td>\n",
              "      <td>0</td>\n",
              "      <td>35.3</td>\n",
              "      <td>0.134</td>\n",
              "      <td>29</td>\n",
              "      <td>0.0000</td>\n",
              "      <td>False</td>\n",
              "    </tr>\n",
              "    <tr>\n",
              "      <th>8</th>\n",
              "      <td>2</td>\n",
              "      <td>197</td>\n",
              "      <td>70</td>\n",
              "      <td>45</td>\n",
              "      <td>543</td>\n",
              "      <td>30.5</td>\n",
              "      <td>0.158</td>\n",
              "      <td>53</td>\n",
              "      <td>1.7730</td>\n",
              "      <td>True</td>\n",
              "    </tr>\n",
              "    <tr>\n",
              "      <th>9</th>\n",
              "      <td>8</td>\n",
              "      <td>125</td>\n",
              "      <td>96</td>\n",
              "      <td>0</td>\n",
              "      <td>0</td>\n",
              "      <td>0.0</td>\n",
              "      <td>0.232</td>\n",
              "      <td>54</td>\n",
              "      <td>0.0000</td>\n",
              "      <td>True</td>\n",
              "    </tr>\n",
              "  </tbody>\n",
              "</table>\n",
              "</div>"
            ],
            "text/plain": [
              "   num_preg  glucose_conc  diastolic_bp  ...  age    skin  diabetes\n",
              "0         6           148            72  ...   50  1.3790      True\n",
              "1         1            85            66  ...   31  1.1426     False\n",
              "2         8           183            64  ...   32  0.0000      True\n",
              "3         1            89            66  ...   21  0.9062     False\n",
              "4         0           137            40  ...   33  1.3790      True\n",
              "5         5           116            74  ...   30  0.0000     False\n",
              "6         3            78            50  ...   26  1.2608      True\n",
              "7        10           115             0  ...   29  0.0000     False\n",
              "8         2           197            70  ...   53  1.7730      True\n",
              "9         8           125            96  ...   54  0.0000      True\n",
              "\n",
              "[10 rows x 10 columns]"
            ]
          },
          "metadata": {
            "tags": []
          },
          "execution_count": 5
        }
      ]
    },
    {
      "cell_type": "code",
      "metadata": {
        "id": "EJR8VaH0lJ0P",
        "colab": {
          "base_uri": "https://localhost:8080/",
          "height": 1000
        },
        "outputId": "d2549c24-3a7a-41ee-ed7a-1cacc9dab1c8"
      },
      "source": [
        "# Histogram\n",
        "columns = list(data)[0:-1]\n",
        "data[columns].hist(stacked = False, bins = 100, figsize = (15, 30), layout = (14,2))"
      ],
      "execution_count": null,
      "outputs": [
        {
          "output_type": "execute_result",
          "data": {
            "text/plain": [
              "array([[<matplotlib.axes._subplots.AxesSubplot object at 0x7f8719d8c9d0>,\n",
              "        <matplotlib.axes._subplots.AxesSubplot object at 0x7f8719d5ef10>],\n",
              "       [<matplotlib.axes._subplots.AxesSubplot object at 0x7f8719d235d0>,\n",
              "        <matplotlib.axes._subplots.AxesSubplot object at 0x7f8719cd9c50>],\n",
              "       [<matplotlib.axes._subplots.AxesSubplot object at 0x7f8719c9b310>,\n",
              "        <matplotlib.axes._subplots.AxesSubplot object at 0x7f8719c51990>],\n",
              "       [<matplotlib.axes._subplots.AxesSubplot object at 0x7f8719c07fd0>,\n",
              "        <matplotlib.axes._subplots.AxesSubplot object at 0x7f8719bc9690>],\n",
              "       [<matplotlib.axes._subplots.AxesSubplot object at 0x7f8719bc96d0>,\n",
              "        <matplotlib.axes._subplots.AxesSubplot object at 0x7f8719bfde50>],\n",
              "       [<matplotlib.axes._subplots.AxesSubplot object at 0x7f8719b75a90>,\n",
              "        <matplotlib.axes._subplots.AxesSubplot object at 0x7f8719b39150>],\n",
              "       [<matplotlib.axes._subplots.AxesSubplot object at 0x7f8719aec7d0>,\n",
              "        <matplotlib.axes._subplots.AxesSubplot object at 0x7f8719aa2e50>],\n",
              "       [<matplotlib.axes._subplots.AxesSubplot object at 0x7f8719a63510>,\n",
              "        <matplotlib.axes._subplots.AxesSubplot object at 0x7f8719a19b90>],\n",
              "       [<matplotlib.axes._subplots.AxesSubplot object at 0x7f87199dc250>,\n",
              "        <matplotlib.axes._subplots.AxesSubplot object at 0x7f87199918d0>],\n",
              "       [<matplotlib.axes._subplots.AxesSubplot object at 0x7f8719948f50>,\n",
              "        <matplotlib.axes._subplots.AxesSubplot object at 0x7f871990a610>],\n",
              "       [<matplotlib.axes._subplots.AxesSubplot object at 0x7f871993ec90>,\n",
              "        <matplotlib.axes._subplots.AxesSubplot object at 0x7f871987f350>],\n",
              "       [<matplotlib.axes._subplots.AxesSubplot object at 0x7f87198b59d0>,\n",
              "        <matplotlib.axes._subplots.AxesSubplot object at 0x7f8719c20250>],\n",
              "       [<matplotlib.axes._subplots.AxesSubplot object at 0x7f8719af8350>,\n",
              "        <matplotlib.axes._subplots.AxesSubplot object at 0x7f87198ce950>],\n",
              "       [<matplotlib.axes._subplots.AxesSubplot object at 0x7f8719788a90>,\n",
              "        <matplotlib.axes._subplots.AxesSubplot object at 0x7f871974b150>]],\n",
              "      dtype=object)"
            ]
          },
          "metadata": {
            "tags": []
          },
          "execution_count": 6
        },
        {
          "output_type": "display_data",
          "data": {
            "image/png": "[encoded data removed]",
            "text/plain": [
              "<Figure size 1080x2160 with 28 Axes>"
            ]
          },
          "metadata": {
            "tags": [],
            "needs_background": "light"
          }
        }
      ]
    },
    {
      "cell_type": "code",
      "metadata": {
        "id": "HqsgvPXdlJ0g",
        "colab": {
          "base_uri": "https://localhost:8080/",
          "height": 279
        },
        "outputId": "1ff5f9e8-1ffb-49c3-87fd-41509d818257"
      },
      "source": [
        "sns.barplot(x= data.bmi.value_counts().index, y = data.bmi.value_counts().values)\n",
        "plt.xlabel('BMI')\n",
        "plt.ylabel(\" COUNT\")\n",
        "plt.show()"
      ],
      "execution_count": null,
      "outputs": [
        {
          "output_type": "display_data",
          "data": {
            "image/png": "[encoded data removed]",
            "text/plain": [
              "<Figure size 432x288 with 1 Axes>"
            ]
          },
          "metadata": {
            "tags": [],
            "needs_background": "light"
          }
        }
      ]
    },
    {
      "cell_type": "code",
      "metadata": {
        "id": "YwHuK9wllJ0t",
        "colab": {
          "base_uri": "https://localhost:8080/",
          "height": 281
        },
        "outputId": "d5da884c-5749-4a0b-8d44-7eb609a0446d"
      },
      "source": [
        "sns.barplot(x= data.num_preg.value_counts().index, y = data.num_preg.value_counts().values)\n",
        "plt.xlabel('num_preg')\n",
        "plt.ylabel(\" COUNT\")\n",
        "plt.show()"
      ],
      "execution_count": null,
      "outputs": [
        {
          "output_type": "display_data",
          "data": {
            "image/png": "[encoded data removed]",
            "text/plain": [
              "<Figure size 432x288 with 1 Axes>"
            ]
          },
          "metadata": {
            "tags": [],
            "needs_background": "light"
          }
        }
      ]
    },
    {
      "cell_type": "code",
      "metadata": {
        "id": "B5zH2cHSlJ05",
        "colab": {
          "base_uri": "https://localhost:8080/",
          "height": 279
        },
        "outputId": "cc254c30-1f36-4c56-bf59-81d5fd5feac9"
      },
      "source": [
        "sns.countplot(data.diabetes)\n",
        "plt.xlabel('diabetes')\n",
        "plt.ylabel('Count')\n",
        "plt.show()"
      ],
      "execution_count": null,
      "outputs": [
        {
          "output_type": "display_data",
          "data": {
            "image/png": "[encoded data removed]",
            "text/plain": [
              "<Figure size 432x288 with 1 Axes>"
            ]
          },
          "metadata": {
            "tags": [],
            "needs_background": "light"
          }
        }
      ]
    },
    {
      "cell_type": "code",
      "metadata": {
        "id": "ytXmI9O9lJ1E",
        "colab": {
          "base_uri": "https://localhost:8080/",
          "height": 868
        },
        "outputId": "84acb325-2506-40c4-c74a-fa603d2fba16"
      },
      "source": [
        "# correalation matrix\n",
        "corrmat = data.corr()\n",
        "top_corr_features = corrmat.index\n",
        "plt.figure(figsize= (15,15))\n",
        "g = sns.heatmap(data[top_corr_features].corr(), annot= True, cmap = 'RdYlGn')"
      ],
      "execution_count": null,
      "outputs": [
        {
          "output_type": "display_data",
          "data": {
            "image/png": "[encoded data removed]",
            "text/plain": [
              "<Figure size 1080x1080 with 2 Axes>"
            ]
          },
          "metadata": {
            "tags": [],
            "needs_background": "light"
          }
        }
      ]
    },
    {
      "cell_type": "code",
      "metadata": {
        "id": "0qxP5mSllJ1O"
      },
      "source": [
        "#changing boolean to number\n",
        "\n",
        "diabetes_map = {True: 1, False: 0}\n",
        "data['diabetes']= data['diabetes'].map(diabetes_map)"
      ],
      "execution_count": null,
      "outputs": []
    },
    {
      "cell_type": "code",
      "metadata": {
        "id": "HyU-D2smlJ1e",
        "colab": {
          "base_uri": "https://localhost:8080/",
          "height": 195
        },
        "outputId": "ea87c8b9-05c2-4600-aa86-d0badd8fe827"
      },
      "source": [
        "data.head()"
      ],
      "execution_count": null,
      "outputs": [
        {
          "output_type": "execute_result",
          "data": {
            "text/html": [
              "<div>\n",
              "<style scoped>\n",
              "    .dataframe tbody tr th:only-of-type {\n",
              "        vertical-align: middle;\n",
              "    }\n",
              "\n",
              "    .dataframe tbody tr th {\n",
              "        vertical-align: top;\n",
              "    }\n",
              "\n",
              "    .dataframe thead th {\n",
              "        text-align: right;\n",
              "    }\n",
              "</style>\n",
              "<table border=\"1\" class=\"dataframe\">\n",
              "  <thead>\n",
              "    <tr style=\"text-align: right;\">\n",
              "      <th></th>\n",
              "      <th>num_preg</th>\n",
              "      <th>glucose_conc</th>\n",
              "      <th>diastolic_bp</th>\n",
              "      <th>thickness</th>\n",
              "      <th>insulin</th>\n",
              "      <th>bmi</th>\n",
              "      <th>diab_pred</th>\n",
              "      <th>age</th>\n",
              "      <th>skin</th>\n",
              "      <th>diabetes</th>\n",
              "    </tr>\n",
              "  </thead>\n",
              "  <tbody>\n",
              "    <tr>\n",
              "      <th>0</th>\n",
              "      <td>6</td>\n",
              "      <td>148</td>\n",
              "      <td>72</td>\n",
              "      <td>35</td>\n",
              "      <td>0</td>\n",
              "      <td>33.6</td>\n",
              "      <td>0.627</td>\n",
              "      <td>50</td>\n",
              "      <td>1.3790</td>\n",
              "      <td>1</td>\n",
              "    </tr>\n",
              "    <tr>\n",
              "      <th>1</th>\n",
              "      <td>1</td>\n",
              "      <td>85</td>\n",
              "      <td>66</td>\n",
              "      <td>29</td>\n",
              "      <td>0</td>\n",
              "      <td>26.6</td>\n",
              "      <td>0.351</td>\n",
              "      <td>31</td>\n",
              "      <td>1.1426</td>\n",
              "      <td>0</td>\n",
              "    </tr>\n",
              "    <tr>\n",
              "      <th>2</th>\n",
              "      <td>8</td>\n",
              "      <td>183</td>\n",
              "      <td>64</td>\n",
              "      <td>0</td>\n",
              "      <td>0</td>\n",
              "      <td>23.3</td>\n",
              "      <td>0.672</td>\n",
              "      <td>32</td>\n",
              "      <td>0.0000</td>\n",
              "      <td>1</td>\n",
              "    </tr>\n",
              "    <tr>\n",
              "      <th>3</th>\n",
              "      <td>1</td>\n",
              "      <td>89</td>\n",
              "      <td>66</td>\n",
              "      <td>23</td>\n",
              "      <td>94</td>\n",
              "      <td>28.1</td>\n",
              "      <td>0.167</td>\n",
              "      <td>21</td>\n",
              "      <td>0.9062</td>\n",
              "      <td>0</td>\n",
              "    </tr>\n",
              "    <tr>\n",
              "      <th>4</th>\n",
              "      <td>0</td>\n",
              "      <td>137</td>\n",
              "      <td>40</td>\n",
              "      <td>35</td>\n",
              "      <td>168</td>\n",
              "      <td>43.1</td>\n",
              "      <td>2.288</td>\n",
              "      <td>33</td>\n",
              "      <td>1.3790</td>\n",
              "      <td>1</td>\n",
              "    </tr>\n",
              "  </tbody>\n",
              "</table>\n",
              "</div>"
            ],
            "text/plain": [
              "   num_preg  glucose_conc  diastolic_bp  ...  age    skin  diabetes\n",
              "0         6           148            72  ...   50  1.3790         1\n",
              "1         1            85            66  ...   31  1.1426         0\n",
              "2         8           183            64  ...   32  0.0000         1\n",
              "3         1            89            66  ...   21  0.9062         0\n",
              "4         0           137            40  ...   33  1.3790         1\n",
              "\n",
              "[5 rows x 10 columns]"
            ]
          },
          "metadata": {
            "tags": []
          },
          "execution_count": 38
        }
      ]
    },
    {
      "cell_type": "code",
      "metadata": {
        "id": "Dei1puRNlJ1s",
        "colab": {
          "base_uri": "https://localhost:8080/"
        },
        "outputId": "9ed43a53-5b27-4cf3-f943-e10eb0c57925"
      },
      "source": [
        "data.info()"
      ],
      "execution_count": null,
      "outputs": [
        {
          "output_type": "stream",
          "text": [
            "<class 'pandas.core.frame.DataFrame'>\n",
            "RangeIndex: 768 entries, 0 to 767\n",
            "Data columns (total 10 columns):\n",
            " #   Column        Non-Null Count  Dtype  \n",
            "---  ------        --------------  -----  \n",
            " 0   num_preg      768 non-null    int64  \n",
            " 1   glucose_conc  768 non-null    int64  \n",
            " 2   diastolic_bp  768 non-null    int64  \n",
            " 3   thickness     768 non-null    int64  \n",
            " 4   insulin       768 non-null    int64  \n",
            " 5   bmi           768 non-null    float64\n",
            " 6   diab_pred     768 non-null    float64\n",
            " 7   age           768 non-null    int64  \n",
            " 8   skin          768 non-null    float64\n",
            " 9   diabetes      768 non-null    int64  \n",
            "dtypes: float64(3), int64(7)\n",
            "memory usage: 60.1 KB\n"
          ],
          "name": "stdout"
        }
      ]
    },
    {
      "cell_type": "code",
      "metadata": {
        "id": "nUcb2e2nlJ13",
        "colab": {
          "base_uri": "https://localhost:8080/"
        },
        "outputId": "21976f46-e543-40f5-fe30-092cf1f86e1f"
      },
      "source": [
        "n_true= len(data.loc[data['diabetes']== True])\n",
        "n_false= len(data.loc[data['diabetes']== False])\n",
        "\n",
        "print('Number of True Cases: {0}({1:2.2f}%)'.format(n_true, (n_true/(n_true+n_false))*100))\n",
        "print('Number of False Cases: {0}({1:2.2f}%)'.format(n_false, (n_false/(n_true+n_false))*100))"
      ],
      "execution_count": null,
      "outputs": [
        {
          "output_type": "stream",
          "text": [
            "Number of True Cases: 268(34.90%)\n",
            "Number of False Cases: 500(65.10%)\n"
          ],
          "name": "stdout"
        }
      ]
    },
    {
      "cell_type": "code",
      "metadata": {
        "id": "K8bWIt6mlJ2B"
      },
      "source": [
        "#Start Building the models\n",
        "from sklearn.model_selection import train_test_split"
      ],
      "execution_count": null,
      "outputs": []
    },
    {
      "cell_type": "code",
      "metadata": {
        "id": "kZG9HZBblJ2L"
      },
      "source": [
        "#spliting train and test data\n",
        "x= data.drop(['diabetes'], axis= 1)\n",
        "y= data.diabetes.values\n",
        "\n",
        "X_train, X_test, y_train, y_test = train_test_split(x, y, test_size = 0.2, random_state= 0)"
      ],
      "execution_count": null,
      "outputs": []
    },
    {
      "cell_type": "code",
      "metadata": {
        "id": "rcSaYj8WlJ2V"
      },
      "source": [
        "#from sklearn.preprocessing import Imputer\n",
        "#fill_values = Imputer(missing_values=0, strategy = 'mean', axis =0)\n",
        "\n",
        "from sklearn.impute import SimpleImputer \n",
        "fill_values = SimpleImputer(missing_values=np.nan, strategy='mean')\n",
        "\n",
        "X_train = fill_values.fit_transform(X_train)\n",
        "X_test = fill_values.fit_transform(X_test)"
      ],
      "execution_count": null,
      "outputs": []
    },
    {
      "cell_type": "code",
      "metadata": {
        "id": "hgVlT2ialJ2h",
        "colab": {
          "base_uri": "https://localhost:8080/"
        },
        "outputId": "e8af23c6-f9bc-49b9-d1b5-a85a01173b22"
      },
      "source": [
        "# Support Vector Machine SVM Algorithm\n",
        "\n",
        "from sklearn.svm import SVC\n",
        "svm = SVC(random_state= 1)\n",
        "svm.fit(X_train, y_train)\n",
        "print(\"SVC accuracy: {: .2f}%\".format(svm.score(X_test, y_test)*100))"
      ],
      "execution_count": null,
      "outputs": [
        {
          "output_type": "stream",
          "text": [
            "SVC accuracy:  79.22%\n"
          ],
          "name": "stdout"
        }
      ]
    },
    {
      "cell_type": "code",
      "metadata": {
        "id": "WVJPmY37lJ2y",
        "colab": {
          "base_uri": "https://localhost:8080/"
        },
        "outputId": "bd2f197c-df61-4025-a10b-400a84b3722c"
      },
      "source": [
        "# Naive Bayes Algorithm\n",
        "\n",
        "from sklearn.naive_bayes import GaussianNB\n",
        "nb= GaussianNB()\n",
        "nb.fit(X_train, y_train)\n",
        "print(\"NB accuracy: {: .2f}%\".format(nb.score(X_test, y_test)*100))"
      ],
      "execution_count": null,
      "outputs": [
        {
          "output_type": "stream",
          "text": [
            "NB accuracy:  78.57%\n"
          ],
          "name": "stdout"
        }
      ]
    },
    {
      "cell_type": "code",
      "metadata": {
        "id": "cbQYB-o6lJ28",
        "colab": {
          "base_uri": "https://localhost:8080/"
        },
        "outputId": "845e3943-f892-4ea0-efca-b46c05c80d6c"
      },
      "source": [
        "# K Nearest Neighbors KNN Algorithm\n",
        "\n",
        "from sklearn.neighbors import KNeighborsClassifier\n",
        "knn= KNeighborsClassifier(n_neighbors = 3)\n",
        "knn.fit(X_train, y_train)\n",
        "print(\"KNN accuracy: {: .2f}%\".format(knn.score(X_test, y_test)*100))"
      ],
      "execution_count": null,
      "outputs": [
        {
          "output_type": "stream",
          "text": [
            "KNN accuracy:  72.08%\n"
          ],
          "name": "stdout"
        }
      ]
    },
    {
      "cell_type": "code",
      "metadata": {
        "id": "ap32dz5TlJ3D",
        "colab": {
          "base_uri": "https://localhost:8080/"
        },
        "outputId": "fb7915d2-e84f-4562-d051-84e7d671afc0"
      },
      "source": [
        "# Random Forest Algorithm\n",
        "\n",
        "from sklearn.ensemble import RandomForestClassifier\n",
        "rf = RandomForestClassifier(n_estimators = 1000, random_state = 1)\n",
        "rf.fit(X_train, y_train)\n",
        "print(\"Random Forest accuracy: {: .2f}%\".format(rf.score(X_test, y_test)*100))"
      ],
      "execution_count": null,
      "outputs": [
        {
          "output_type": "stream",
          "text": [
            "Random Forest accuracy:  79.22%\n"
          ],
          "name": "stdout"
        }
      ]
    },
    {
      "cell_type": "code",
      "metadata": {
        "id": "Sa-dYAselJ3J",
        "colab": {
          "base_uri": "https://localhost:8080/"
        },
        "outputId": "8d8eb9c1-0ac0-4eb0-ba5c-5f63129dc2b6"
      },
      "source": [
        "# XG boost\n",
        "\n",
        "import xgboost\n",
        "xg = xgboost.XGBClassifier()\n",
        "xg.fit(X_train, y_train)\n",
        "print(\" XG boost: {: .2f}%\".format(xg.score(X_test, y_test)*100))"
      ],
      "execution_count": null,
      "outputs": [
        {
          "output_type": "stream",
          "text": [
            " XG boost:  81.82%\n"
          ],
          "name": "stdout"
        }
      ]
    },
    {
      "cell_type": "code",
      "metadata": {
        "id": "m4b3QrAV4uhi",
        "colab": {
          "base_uri": "https://localhost:8080/"
        },
        "outputId": "d08f7fc0-6584-46b7-fbd3-59b62d711f53"
      },
      "source": [
        "# Make prediction for a new data entry with SVM model\n",
        "\n",
        "new_values=[11,\t19,\t6,\t3,\t99,\t30.1,\t0.398,\t99,\t0.062]\n",
        "data= np.array(new_values, ndmin=2)\n",
        "prediction = svm.predict(data)\n",
        "if prediction == 1:\n",
        "  print(\"diabetes status: TRUE\")\n",
        "else: \n",
        "  print(\"diabetes status: FALSE\")"
      ],
      "execution_count": null,
      "outputs": [
        {
          "output_type": "stream",
          "text": [
            "diabetes status: FALSE\n"
          ],
          "name": "stdout"
        }
      ]
    },
    {
      "cell_type": "code",
      "metadata": {
        "id": "2MAI4QERlJ3Q",
        "colab": {
          "base_uri": "https://localhost:8080/"
        },
        "outputId": "037d901f-84f0-4611-afe7-f3a2812abb16"
      },
      "source": [
        "# Make prediction for a new data entry with XG boost Model\n",
        "\n",
        "new_values=[1,\t189,\t60,\t23,\t846,\t30.1,\t0.398,\t59,\t0.9062]\n",
        "data= np.array(new_values, ndmin=2)\n",
        "prediction = xg.predict(data)\n",
        "if prediction == 1:\n",
        "  print(\"diabetes status: TRUE\")\n",
        "else: \n",
        "  print(\"diabetes status: FALSE\")"
      ],
      "execution_count": null,
      "outputs": [
        {
          "output_type": "stream",
          "text": [
            "diabetes status: TRUE\n"
          ],
          "name": "stdout"
        }
      ]
    }
  ]
}